{
  "cells": [
    {
      "cell_type": "markdown",
      "metadata": {
        "id": "view-in-github",
        "colab_type": "text"
      },
      "source": [
        "<a href=\"https://colab.research.google.com/github/swapnil14g/random_practice/blob/main/stats2.ipynb\" target=\"_parent\"><img src=\"https://colab.research.google.com/assets/colab-badge.svg\" alt=\"Open In Colab\"/></a>"
      ]
    },
    {
      "cell_type": "code",
      "execution_count": null,
      "id": "d28f6e64",
      "metadata": {
        "id": "d28f6e64"
      },
      "outputs": [],
      "source": [
        "import numpy as np\n",
        "import pandas as pd"
      ]
    },
    {
      "cell_type": "code",
      "source": [],
      "metadata": {
        "id": "SrjsJvNrIygx"
      },
      "id": "SrjsJvNrIygx",
      "execution_count": null,
      "outputs": []
    },
    {
      "cell_type": "code",
      "execution_count": null,
      "id": "e88b12ca",
      "metadata": {
        "id": "e88b12ca"
      },
      "outputs": [],
      "source": [
        "data=np.random.randint(low=0,high=100, size=(3,4))\n",
        "names=['Eleanor', 'Chidi', 'Tahani', 'Jason']\n",
        "data_set=pd.DataFrame(data=data,columns=names)"
      ]
    },
    {
      "cell_type": "code",
      "execution_count": null,
      "id": "6e42063f",
      "metadata": {
        "id": "6e42063f",
        "outputId": "9d6226eb-a32d-47f1-9a47-696a22c5274e"
      },
      "outputs": [
        {
          "data": {
            "text/plain": [
              "array([[12,  3, 25]])"
            ]
          },
          "execution_count": 2,
          "metadata": {},
          "output_type": "execute_result"
        }
      ],
      "source": [
        "x=np.array([[12,3,25]])\n",
        "x"
      ]
    },
    {
      "cell_type": "code",
      "execution_count": null,
      "id": "4e7ea4c9",
      "metadata": {
        "id": "4e7ea4c9",
        "outputId": "b28eab5c-616b-40ba-aeb7-1a228a31bc16"
      },
      "outputs": [
        {
          "data": {
            "text/plain": [
              "(1, 3)"
            ]
          },
          "execution_count": 4,
          "metadata": {},
          "output_type": "execute_result"
        }
      ],
      "source": [
        "x.shape"
      ]
    },
    {
      "cell_type": "markdown",
      "id": "0307ab64",
      "metadata": {
        "id": "0307ab64"
      },
      "source": [
        "# Transpose"
      ]
    },
    {
      "cell_type": "code",
      "execution_count": null,
      "id": "3e480f05",
      "metadata": {
        "id": "3e480f05",
        "outputId": "a21e2f2f-de5a-47c2-8c63-34e2a174966c"
      },
      "outputs": [
        {
          "name": "stdout",
          "output_type": "stream",
          "text": [
            "[[12]\n",
            " [ 3]\n",
            " [25]]\n"
          ]
        },
        {
          "data": {
            "text/plain": [
              "(3, 1)"
            ]
          },
          "execution_count": 7,
          "metadata": {},
          "output_type": "execute_result"
        }
      ],
      "source": [
        "x_t=x.T\n",
        "print(x_t)\n",
        "x_t.shape"
      ]
    },
    {
      "cell_type": "code",
      "execution_count": null,
      "id": "8a839ca9",
      "metadata": {
        "id": "8a839ca9"
      },
      "outputs": [],
      "source": []
    },
    {
      "cell_type": "code",
      "execution_count": 1,
      "id": "77b2e102",
      "metadata": {
        "id": "77b2e102"
      },
      "outputs": [],
      "source": [
        "import torch"
      ]
    },
    {
      "cell_type": "code",
      "source": [
        "x_t=torch.tensor([[1,2,3]])\n",
        "x_t.T"
      ],
      "metadata": {
        "colab": {
          "base_uri": "https://localhost:8080/"
        },
        "id": "ejrXmuKeJJ-N",
        "outputId": "6e3b2eed-2353-4aff-dc3d-bb8a93ec1475"
      },
      "id": "ejrXmuKeJJ-N",
      "execution_count": 7,
      "outputs": [
        {
          "output_type": "execute_result",
          "data": {
            "text/plain": [
              "tensor([[1],\n",
              "        [2],\n",
              "        [3]])"
            ]
          },
          "metadata": {},
          "execution_count": 7
        }
      ]
    }
  ],
  "metadata": {
    "kernelspec": {
      "display_name": "Python 3 (ipykernel)",
      "language": "python",
      "name": "python3"
    },
    "language_info": {
      "codemirror_mode": {
        "name": "ipython",
        "version": 3
      },
      "file_extension": ".py",
      "mimetype": "text/x-python",
      "name": "python",
      "nbconvert_exporter": "python",
      "pygments_lexer": "ipython3",
      "version": "3.11.7"
    },
    "colab": {
      "provenance": [],
      "include_colab_link": true
    }
  },
  "nbformat": 4,
  "nbformat_minor": 5
}